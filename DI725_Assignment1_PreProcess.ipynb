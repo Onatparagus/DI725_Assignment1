{
  "nbformat": 4,
  "nbformat_minor": 0,
  "metadata": {
    "colab": {
      "provenance": [],
      "gpuType": "T4"
    },
    "kernelspec": {
      "name": "python3",
      "display_name": "Python 3"
    },
    "language_info": {
      "name": "python"
    },
    "accelerator": "GPU"
  },
  "cells": [
    {
      "cell_type": "code",
      "execution_count": 11,
      "metadata": {
        "id": "Uu7xQBWOtITD"
      },
      "outputs": [],
      "source": [
        "import re\n",
        "import string\n",
        "from sklearn.model_selection import train_test_split\n",
        "from transformers import GPT2Tokenizer\n",
        "import pandas as pd\n",
        "from sklearn.preprocessing import LabelEncoder\n",
        "import os\n",
        "import requests\n",
        "\n",
        "#from google.colab import drive\n",
        "#drive.mount('/content/drive')\n",
        "#train_path = '/content/drive/MyDrive/customer_service/train.csv'\n",
        "#test_path = '/content/drive/MyDrive/customer_service/test.csv'\n",
        "\n",
        "train_url = 'https://raw.githubusercontent.com/Onatparagus/DI725_Assignment1/refs/heads/main/starter_code/data/customer_service/train.csv'\n",
        "test_url = 'https://raw.githubusercontent.com/Onatparagus/DI725_Assignment1/refs/heads/main/starter_code/data/customer_service/test.csv'\n",
        "\n",
        "def download_file(url, file_name):\n",
        "    response = requests.get(url)\n",
        "    with open(file_name, 'wb') as file:\n",
        "        file.write(response.content)\n",
        "download_file(train_url, 'train.csv')\n",
        "download_file(test_url, 'test.csv')\n",
        "\n",
        "train_df = pd.read_csv('train.csv', delimiter=\",\")\n",
        "test_df = pd.read_csv('test.csv', delimiter=\",\")\n",
        "\n",
        "tokenizer = GPT2Tokenizer.from_pretrained(\"gpt2\")\n",
        "tokenizer.pad_token = tokenizer.eos_token\n",
        "\n",
        "def clean_text(text):\n",
        "    text = text.lower()\n",
        "    text = re.sub(r'\\s+', ' ', text)  #remove extra spaces\n",
        "    text = text.strip()  #remove leading spaces\n",
        "    text = re.sub(r'[^\\w\\s]', '', text)  #punctuation\n",
        "    return text\n",
        "\n",
        "#cleaning to \"conversation\" column\n",
        "train_df['cleaned_conversation'] = train_df['conversation'].apply(clean_text)\n",
        "test_df['cleaned_conversation'] = test_df['conversation'].apply(clean_text)\n",
        "\n",
        "def tokenize_function(text):\n",
        "    return tokenizer(text, padding=\"max_length\", truncation=True, max_length=512, return_tensors=\"pt\", return_attention_mask=True)\n",
        "\n",
        "# tokenize \"cleaned_conversation\"\n",
        "train_df['tokens'] = train_df['cleaned_conversation'].apply(lambda x: tokenize_function(x))\n",
        "test_df['tokens'] = test_df['cleaned_conversation'].apply(lambda x: tokenize_function(x))\n",
        "\n",
        "label_encoder = LabelEncoder()\n",
        "#sentiment labels to integers\n",
        "train_df['sentiment_label'] = label_encoder.fit_transform(train_df['customer_sentiment'])\n",
        "test_df['sentiment_label'] = label_encoder.transform(test_df['customer_sentiment'])\n",
        "\n",
        "#omit columns\n",
        "train_df = train_df[['sentiment_label', 'tokens']]\n",
        "test_df = test_df[['sentiment_label', 'tokens']]\n",
        "\n",
        "#training and validation split\n",
        "train_df, val_df = train_test_split(train_df, test_size=0.1, random_state=725, stratify=train_df['sentiment_label'])"
      ]
    }
  ]
}